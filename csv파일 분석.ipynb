{
 "cells": [
  {
   "cell_type": "code",
   "execution_count": null,
   "metadata": {},
   "outputs": [
    {
     "name": "stdout",
     "output_type": "stream",
     "text": [
      "현재 백신을 맞을수있는 장소는:\n",
      "중앙/ 중부권역/ 호남권역/ 영남권역/ 대구광역시/ 서울특별시/ 부산광역시/ 인천광역시/ 광주광역시/ 대전광역시/ 울산광역시/ 세종특별자치시/ 경기도/ 강원도/ 충청북도/ 충청남도/ 전라북도/ 전라남도/ 경상북도/ 경상남도/ 제주특별자치도\n"
     ]
    }
   ],
   "source": [
    "import csv\n",
    "f= open('210416.csv', encoding= 'cp949')\n",
    "data=csv.reader(f)\n",
    "header=next(data)\n",
    "count=0\n",
    "print('현재 백신을 맞을수있는 장소는:')\n",
    "print('중앙/ 중부권역/ 호남권역/ 영남권역/ 대구광역시/ 서울특별시/ 부산광역시/ 인천광역시/ 광주광역시/ 대전광역시/ 울산광역시/ 세종특별자치시/ 경기도/ 강원도/ 충청북도/ 충청남도/ 전라북도/ 전라남도/ 경상북도/ 경상남도/ 제주특별자치도')\n",
    "area=input(('예방접종가능한 지역:'))\n",
    "for i in data:\n",
    "    j=i[2].split(' ')\n",
    "    if j[1] ==area:\n",
    "        print('\\n시설명:', i[4], '\\n센터명:', i[2])\n",
    "        count +=1\n",
    "        \n",
    "print('가능 장소:', count,'곳')\n",
    "\n",
    "    "
   ]
  },
  {
   "cell_type": "code",
   "execution_count": 93,
   "metadata": {},
   "outputs": [],
   "source": [
    "import matplotlib.pyplot as plt\n",
    "import pandas as pd\n",
    "import numpy as np\n",
    "import seaborn as sns"
   ]
  }
 ],
 "metadata": {
  "kernelspec": {
   "display_name": "Python 3",
   "language": "python",
   "name": "python3"
  },
  "language_info": {
   "codemirror_mode": {
    "name": "ipython",
    "version": 3
   },
   "file_extension": ".py",
   "mimetype": "text/x-python",
   "name": "python",
   "nbconvert_exporter": "python",
   "pygments_lexer": "ipython3",
   "version": "3.8.5"
  }
 },
 "nbformat": 4,
 "nbformat_minor": 4
}
