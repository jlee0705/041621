{
 "cells": [
  {
   "cell_type": "code",
   "execution_count": 100,
   "metadata": {},
   "outputs": [
    {
     "name": "stdout",
     "output_type": "stream",
     "text": [
      "현재 백신을 맞을수있는 장소는:\n",
      "중앙/ 중부권역/ 호남권역/ 영남권역/ 대구광역시/ 서울특별시/ 부산광역시/ 인천광역시/ 광주광역시/ 대전광역시/ 울산광역시/ 세종특별자치시/ 경기도/ 강원도/ 충청북도/ 충청남도/ 전라북도/ 전라남도/ 경상북도/ 경상남도/ 제주특별자치도\n",
      "예방접종가능한 지역:대구광역시\n",
      "\n",
      "시설명: 계명대학교 대구동산병원 별관 \n",
      "센터명: 코로나19 대구광역시 중구 예방접종센터\n",
      "\n",
      "시설명: 아양아트센터 \n",
      "센터명: 코로나19 대구광역시 동구 예방접종센터 \n",
      "\n",
      "시설명: 성서산업단지 다목적체육관 \n",
      "센터명: 코로나19 대구광역시 달서구 예방접종센터 \n",
      "\n",
      "시설명: 대구복합스포츠타운 시민체육관 \n",
      "센터명: 코로나19 대구광역시 북구 예방접종센터\n",
      "\n",
      "시설명: 서구국민체육센터 \n",
      "센터명: 코로나19 대구광역시 서구 예방접종센터\n",
      "가능 장소: 5 곳\n"
     ]
    }
   ],
   "source": [
    "import csv\n",
    "f= open('210416.csv', encoding= 'cp949')\n",
    "data=csv.reader(f)\n",
    "header=next(data)\n",
    "count=0\n",
    "print('현재 백신을 맞을수있는 장소는:')\n",
    "print('중앙/ 중부권역/ 호남권역/ 영남권역/ 대구광역시/ 서울특별시/ 부산광역시/ 인천광역시/ 광주광역시/ 대전광역시/ 울산광역시/ 세종특별자치시/ 경기도/ 강원도/ 충청북도/ 충청남도/ 전라북도/ 전라남도/ 경상북도/ 경상남도/ 제주특별자치도')\n",
    "area=input(('예방접종가능한 지역:'))\n",
    "for i in data:\n",
    "    j=i[2].split(' ')\n",
    "    if j[1] ==area:\n",
    "        print('\\n시설명:', i[4], '\\n센터명:', i[2])\n",
    "        count +=1\n",
    "        \n",
    "print('가능 장소:', count,'곳')\n",
    "\n",
    "    "
   ]
  },
  {
   "cell_type": "code",
   "execution_count": 101,
   "metadata": {},
   "outputs": [
    {
     "ename": "TypeError",
     "evalue": "__init__() got an unexpected keyword argument 'frame'",
     "output_type": "error",
     "traceback": [
      "\u001b[1;31m---------------------------------------------------------------------------\u001b[0m",
      "\u001b[1;31mTypeError\u001b[0m                                 Traceback (most recent call last)",
      "\u001b[1;32m<ipython-input-101-c9b383f86006>\u001b[0m in \u001b[0;36m<module>\u001b[1;34m\u001b[0m\n\u001b[0;32m      2\u001b[0m \u001b[1;32mfrom\u001b[0m \u001b[0mmatplotlib\u001b[0m \u001b[1;32mimport\u001b[0m \u001b[0mfont_manager\u001b[0m\u001b[1;33m,\u001b[0m\u001b[0mrc\u001b[0m\u001b[1;33m\u001b[0m\u001b[1;33m\u001b[0m\u001b[0m\n\u001b[0;32m      3\u001b[0m \u001b[0mplt\u001b[0m\u001b[1;33m.\u001b[0m\u001b[0mrcParams\u001b[0m\u001b[1;33m[\u001b[0m\u001b[1;34m'figure.figsize'\u001b[0m\u001b[1;33m]\u001b[0m\u001b[1;33m=\u001b[0m\u001b[1;33m[\u001b[0m\u001b[1;36m20\u001b[0m\u001b[1;33m,\u001b[0m\u001b[1;36m5\u001b[0m\u001b[1;33m]\u001b[0m\u001b[1;33m\u001b[0m\u001b[1;33m\u001b[0m\u001b[0m\n\u001b[1;32m----> 4\u001b[1;33m \u001b[0mfont_name\u001b[0m\u001b[1;33m=\u001b[0m\u001b[0mfont_manager\u001b[0m\u001b[1;33m.\u001b[0m\u001b[0mFontProperties\u001b[0m\u001b[1;33m(\u001b[0m\u001b[0mframe\u001b[0m\u001b[1;33m=\u001b[0m\u001b[1;34m\"C:/Windows/Fonts/Malgun.ttf\"\u001b[0m\u001b[1;33m)\u001b[0m\u001b[1;33m.\u001b[0m\u001b[0mget_name\u001b[0m\u001b[1;33m(\u001b[0m\u001b[1;33m)\u001b[0m\u001b[1;33m\u001b[0m\u001b[1;33m\u001b[0m\u001b[0m\n\u001b[0m\u001b[0;32m      5\u001b[0m \u001b[0mrc\u001b[0m\u001b[1;33m(\u001b[0m\u001b[1;34m'font'\u001b[0m\u001b[1;33m,\u001b[0m\u001b[0mfamily\u001b[0m\u001b[1;33m=\u001b[0m\u001b[0mfont_name\u001b[0m\u001b[1;33m)\u001b[0m\u001b[1;33m\u001b[0m\u001b[1;33m\u001b[0m\u001b[0m\n",
      "\u001b[1;31mTypeError\u001b[0m: __init__() got an unexpected keyword argument 'frame'"
     ]
    }
   ],
   "source": [
    "import matplotlib.pyplot as plt\n",
    "from matplotlib import font_manager,rc\n",
    "plt.rcParams['figure.figsize']=[20,5]\n",
    "font_name=font_manager.FontProperties(frame=\"C:/Windows/Fonts/Malgun.ttf\").get_name()\n",
    "rc('font',family=font_name)"
   ]
  },
  {
   "cell_type": "code",
   "execution_count": null,
   "metadata": {},
   "outputs": [],
   "source": [
    "plt.plot([''중앙/ 중부권역/ 호남권역/ 영남권역/ 대구광역시/ 서울특별시/ 부산광역시/ 인천광역시/ 광주광역시/ 대전광역시/ 울산광역시/ 세종특별자치시/ 경기도/ 강원도/ 충청북도/ 충청남도/ 전라북도/ 전라남도/ 경상북도/ 경상남도/ 제주특별자치도'],[1,1,1,5,25,5,4,5,5,5,1,26,11,7,11,7,22,12,19])          \n",
    "plt.ylabel('센터 수')\n",
    "plt.show()"
   ]
  },
  {
   "cell_type": "code",
   "execution_count": null,
   "metadata": {},
   "outputs": [],
   "source": []
  }
 ],
 "metadata": {
  "kernelspec": {
   "display_name": "Python 3",
   "language": "python",
   "name": "python3"
  },
  "language_info": {
   "codemirror_mode": {
    "name": "ipython",
    "version": 3
   },
   "file_extension": ".py",
   "mimetype": "text/x-python",
   "name": "python",
   "nbconvert_exporter": "python",
   "pygments_lexer": "ipython3",
   "version": "3.8.5"
  }
 },
 "nbformat": 4,
 "nbformat_minor": 4
}
