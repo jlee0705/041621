{
 "cells": [
  {
   "cell_type": "code",
   "execution_count": 60,
   "metadata": {},
   "outputs": [
    {
     "ename": "SyntaxError",
     "evalue": "invalid syntax (<ipython-input-60-094084dd06a8>, line 9)",
     "output_type": "error",
     "traceback": [
      "\u001b[1;36m  File \u001b[1;32m\"<ipython-input-60-094084dd06a8>\"\u001b[1;36m, line \u001b[1;32m9\u001b[0m\n\u001b[1;33m    if j[0] != \"경상북도\"\u001b[0m\n\u001b[1;37m                     ^\u001b[0m\n\u001b[1;31mSyntaxError\u001b[0m\u001b[1;31m:\u001b[0m invalid syntax\n"
     ]
    }
   ],
   "source": [
    "import csv\n",
    "f = open('210416.csv', encoding = 'cp949')\n",
    "data= csv.reader(f)\n",
    "header=next(data) # Header 다음부터 읽기.\n",
    "count= 0\n",
    "for i in data:\n",
    "    j=i[6].split(' ')\n",
    "    print(j)\n",
    "    if j[0] == \"경상북도\"\n",
    "    print(i)\n",
    "\n",
    "\n",
    "\n",
    "    \n",
    "# print(count)\n",
    "#     if i[6] == '서울특별시':\n",
    "#         print(i)\n",
    "#         count+=1\n",
    "        \n",
    "# print(count)"
   ]
  },
  {
   "cell_type": "code",
   "execution_count": null,
   "metadata": {},
   "outputs": [],
   "source": [
    "\n",
    "6번째꺼만 split해서 (변수)\n",
    "그 변수로 꺼내기\n"
   ]
  }
 ],
 "metadata": {
  "kernelspec": {
   "display_name": "Python 3",
   "language": "python",
   "name": "python3"
  },
  "language_info": {
   "codemirror_mode": {
    "name": "ipython",
    "version": 3
   },
   "file_extension": ".py",
   "mimetype": "text/x-python",
   "name": "python",
   "nbconvert_exporter": "python",
   "pygments_lexer": "ipython3",
   "version": "3.8.5"
  }
 },
 "nbformat": 4,
 "nbformat_minor": 4
}
