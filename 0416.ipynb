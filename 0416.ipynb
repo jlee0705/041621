{
 "cells": [
  {
   "cell_type": "code",
   "execution_count": 6,
   "metadata": {},
   "outputs": [
    {
     "data": {
      "text/plain": [
       "True"
      ]
     },
     "execution_count": 6,
     "metadata": {},
     "output_type": "execute_result"
    }
   ],
   "source": [
    "class Student:\n",
    "    def __init__(self):\n",
    "        pass\n",
    "student = Student()\n",
    "isinstance (student,Student)"
   ]
  },
  {
   "cell_type": "code",
   "execution_count": 7,
   "metadata": {},
   "outputs": [
    {
     "data": {
      "text/plain": [
       "True"
      ]
     },
     "execution_count": 7,
     "metadata": {},
     "output_type": "execute_result"
    }
   ],
   "source": [
    "class Car():\n",
    "    pass\n",
    "\n",
    "class Yugo(Car):\n",
    "    pass\n",
    "\n",
    "issubclass(Yugo,Car)"
   ]
  },
  {
   "cell_type": "code",
   "execution_count": 8,
   "metadata": {},
   "outputs": [],
   "source": [
    "give_me_a_car=Car()\n",
    "give_me_a_yugo=Yugo()"
   ]
  },
  {
   "cell_type": "code",
   "execution_count": 44,
   "metadata": {},
   "outputs": [
    {
     "name": "stdout",
     "output_type": "stream",
     "text": [
      "I'm a Car!\n",
      "I'm a Yugo! Much like a Car, but more Yugo-ish.\n",
      "A little help sir?\n"
     ]
    }
   ],
   "source": [
    "class Car():\n",
    "    def exclaim(self):\n",
    "        print(\"I'm a Car!\")\n",
    "    def need_a_push(self):\n",
    "        print(\"A little help sir?\")\n",
    "        \n",
    "class Yugo(Car):\n",
    "    pass\n",
    "\n",
    "class Yugo(Car):\n",
    "    def exclaim(self):\n",
    "        print(\"I'm a Yugo! Much like a Car, but more Yugo-ish.\")\n",
    "#     def need_a_push(self):\n",
    "#         return (\"A little help sir?\")\n",
    "        \n",
    "# give_me_a_car=Car()\n",
    "# give_me_a_yugo=Yugo()\n",
    "give_me_a_car.exclaim()\n",
    "give_me_a_yugo.exclaim()\n",
    "give_me_a_yugo.need_a_push()"
   ]
  },
  {
   "cell_type": "code",
   "execution_count": 94,
   "metadata": {},
   "outputs": [
    {
     "name": "stdout",
     "output_type": "stream",
     "text": [
      "veigar 20 fire\n",
      "Get New Item!\n"
     ]
    }
   ],
   "source": [
    "class Character():\n",
    "    def __init__(self, name, age, skill):\n",
    "        self.name=name\n",
    "        self.age=age\n",
    "        self.skill=skill\n",
    "    def getitem(self):\n",
    "        print('Get New Item!')\n",
    "    def sellitem(self):\n",
    "        print('Sold Item!')\n",
    "\n",
    "class Veigar(Character):\n",
    "    pass\n",
    "\n",
    "class Gamecharacter(Character):\n",
    "    def getitem(self):\n",
    "        super().getitem() #부모클래스의 메서드를 호출하여 중복\n",
    "        \n",
    "    def sellitem(self):\n",
    "        super().sellitem()\n",
    "            \n",
    "    def changeitem():\n",
    "        print('Item has been changed')\n",
    "        \n",
    "        \n",
    "#Gamecharacter=veigar('veigar', 20, 'fire')\n",
    "veigar = Gamecharacter('veigar', 20, 'fire')\n",
    "print(veigar.name, veigar.age, veigar.skill)\n",
    "veigar.getitem()\n",
    "# Gamecharacter.getitem()\n",
    "# Gamecharacter.changeitem()"
   ]
  },
  {
   "cell_type": "code",
   "execution_count": 43,
   "metadata": {},
   "outputs": [],
   "source": [
    "class Person():\n",
    "    def __init__(self,name):\n",
    "        self.name=name"
   ]
  },
  {
   "cell_type": "code",
   "execution_count": 41,
   "metadata": {},
   "outputs": [
    {
     "name": "stdout",
     "output_type": "stream",
     "text": [
      "Fudd\n"
     ]
    }
   ],
   "source": [
    "class MDPerson(Person):\n",
    "    def __init__(self,name):\n",
    "        self.name=\"Doctor\" + name\n",
    "        \n",
    "class JDPerson(Person):\n",
    "    def __init__(self,name):\n",
    "        self.name = name + \", Esquire\"\n",
    "        \n",
    "person=Person('Fudd')\n",
    "doctor=MDPerson('Fudd')\n",
    "lawyer=JDPerson('Fudd')\n",
    "print(person.name)"
   ]
  },
  {
   "cell_type": "code",
   "execution_count": 42,
   "metadata": {},
   "outputs": [
    {
     "ename": "AttributeError",
     "evalue": "type object 'MDPerson' has no attribute 'name'",
     "output_type": "error",
     "traceback": [
      "\u001b[1;31m---------------------------------------------------------------------------\u001b[0m",
      "\u001b[1;31mAttributeError\u001b[0m                            Traceback (most recent call last)",
      "\u001b[1;32m<ipython-input-42-f2344fc825a2>\u001b[0m in \u001b[0;36m<module>\u001b[1;34m\u001b[0m\n\u001b[1;32m----> 1\u001b[1;33m \u001b[0mprint\u001b[0m\u001b[1;33m(\u001b[0m\u001b[0mMDPerson\u001b[0m\u001b[1;33m.\u001b[0m\u001b[0mname\u001b[0m\u001b[1;33m)\u001b[0m\u001b[1;33m\u001b[0m\u001b[1;33m\u001b[0m\u001b[0m\n\u001b[0m",
      "\u001b[1;31mAttributeError\u001b[0m: type object 'MDPerson' has no attribute 'name'"
     ]
    }
   ],
   "source": []
  },
  {
   "cell_type": "code",
   "execution_count": null,
   "metadata": {},
   "outputs": [],
   "source": []
  }
 ],
 "metadata": {
  "kernelspec": {
   "display_name": "Python 3",
   "language": "python",
   "name": "python3"
  },
  "language_info": {
   "codemirror_mode": {
    "name": "ipython",
    "version": 3
   },
   "file_extension": ".py",
   "mimetype": "text/x-python",
   "name": "python",
   "nbconvert_exporter": "python",
   "pygments_lexer": "ipython3",
   "version": "3.8.5"
  }
 },
 "nbformat": 4,
 "nbformat_minor": 4
}
